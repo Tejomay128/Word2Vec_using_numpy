{
 "cells": [
  {
   "cell_type": "code",
   "execution_count": 3,
   "metadata": {},
   "outputs": [],
   "source": [
    "import numpy as np\n",
    "from backpropagation import Matrix, zero_grad\n",
    "\n",
    "\n",
    "def forward_pass(context, label_word, context_weight, softmax_weight, d, method=\"cbow\"):  # data in the form of list of context words\n",
    "    # context word: batch_size x |V|   weights: |V| x d\n",
    "    loss = 0\n",
    "    if method == \"cbow\":\n",
    "        net = Matrix(np.zeros(label_word.shape[0], d))\n",
    "        for word in context:\n",
    "            net += word @ context_weight\n",
    "        net /= len(context)\n",
    "        out = (net @ softmax_weight).softmax()\n",
    "        loss = out.cross_entropy(label_word)\n",
    "    \n",
    "    elif method == \"skipgram\":\n",
    "        net = label_word @ context_weight\n",
    "        losses = []\n",
    "        for word in context:\n",
    "            out = (net @ softmax_weight).softmax()\n",
    "            context_loss = out.cross_entropy()\n",
    "            losses.append(context_loss)\n",
    "        loss = sum(losses) / len(context)\n",
    "    \n",
    "    else:\n",
    "        print(\"Not a valid method!\")\n",
    "    return loss\n",
    "\n",
    "\n",
    "# data shape: N x C x |V|\n",
    "# data has first C-1 elements as context and last element as label word\n",
    "def train(data, weights, batch_size=4, num_epochs=100, lr=0.01, dim=100, method=\"cbow\"):\n",
    "    # context_weights = Matrix(np.random.randn(data.shape[2], dim))\n",
    "    # softmax_weights = Matrix(np.random.randn(dim, data.shape[2]))\n",
    "    for epoch in range(num_epochs):\n",
    "        for i in range(0, data.shape[0], batch_size):\n",
    "            context = []\n",
    "            batch = data[i:i+batch_size-1, :, :]\n",
    "            for w in range(data.shape[1] - 1):\n",
    "                context.append(Matrix(batch[:, w, :].squeeze(1)))\n",
    "            label_word = Matrix(batch[:, -1, :].squeeze(1))\n",
    "            \n",
    "            loss = forward_pass(context, label_word, weights[0], weights[1], dim)\n",
    "            order = loss.backprop()\n",
    "            for weight in weights:\n",
    "                weight -= lr * weight.grad\n",
    "            zero_grad(order)\n",
    "\n",
    "            print(f\"Epoch: {epoch+1} | Loss: {loss.val:.5f}\")"
   ]
  },
  {
   "cell_type": "code",
   "execution_count": 5,
   "metadata": {},
   "outputs": [],
   "source": [
    "def word_to_onehot(vocab, word):   # return 1D onehot vector\n",
    "    onehot = np.zeros((len(vocab),), dtype=np.float32)\n",
    "    onehot[vocab.index(word)] = 1.0\n",
    "    return onehot\n",
    "\n",
    "def onehot_to_word(vocab, onehot):\n",
    "    return vocab[np.argmax(onehot)]\n",
    "\n"
   ]
  },
  {
   "cell_type": "code",
   "execution_count": null,
   "metadata": {},
   "outputs": [],
   "source": []
  }
 ],
 "metadata": {
  "kernelspec": {
   "display_name": "env",
   "language": "python",
   "name": "python3"
  },
  "language_info": {
   "codemirror_mode": {
    "name": "ipython",
    "version": 3
   },
   "file_extension": ".py",
   "mimetype": "text/x-python",
   "name": "python",
   "nbconvert_exporter": "python",
   "pygments_lexer": "ipython3",
   "version": "3.8.10"
  },
  "orig_nbformat": 4,
  "vscode": {
   "interpreter": {
    "hash": "f67010a807bd5d08e07febbad564d06fc913622566e721ece994d50519f80644"
   }
  }
 },
 "nbformat": 4,
 "nbformat_minor": 2
}
